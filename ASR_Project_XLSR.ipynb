{
  "metadata": {
    "kernelspec": {
      "language": "python",
      "display_name": "Python 3",
      "name": "python3"
    },
    "language_info": {
      "name": "python",
      "version": "3.10.14",
      "mimetype": "text/x-python",
      "codemirror_mode": {
        "name": "ipython",
        "version": 3
      },
      "pygments_lexer": "ipython3",
      "nbconvert_exporter": "python",
      "file_extension": ".py"
    },
    "kaggle": {
      "accelerator": "nvidiaTeslaT4",
      "dataSources": [
        {
          "sourceId": 4653379,
          "sourceType": "datasetVersion",
          "datasetId": 2703147
        }
      ],
      "dockerImageVersionId": 30786,
      "isInternetEnabled": true,
      "language": "python",
      "sourceType": "notebook",
      "isGpuEnabled": true
    },
    "colab": {
      "name": "ASR Project",
      "provenance": [],
      "include_colab_link": true
    }
  },
  "nbformat_minor": 0,
  "nbformat": 4,
  "cells": [
    {
      "cell_type": "markdown",
      "metadata": {
        "id": "view-in-github",
        "colab_type": "text"
      },
      "source": [
        "<a href=\"https://colab.research.google.com/github/vutl/Automatic-Speech-Recognition/blob/main/ASR_Project_XLSR.ipynb\" target=\"_parent\"><img src=\"https://colab.research.google.com/assets/colab-badge.svg\" alt=\"Open In Colab\"/></a>"
      ]
    },
    {
      "source": [
        "import kagglehub\n",
        "kynthesis_vivos_vietnamese_speech_corpus_for_asr_path = kagglehub.dataset_download('kynthesis/vivos-vietnamese-speech-corpus-for-asr')\n",
        "\n",
        "print('Data source import complete.')\n"
      ],
      "metadata": {
        "id": "ANY427_yOUEX"
      },
      "cell_type": "code",
      "outputs": [],
      "execution_count": null
    },
    {
      "cell_type": "code",
      "source": [
        "!pip install --upgrade transformers datasets jiwer librosa evaluate"
      ],
      "metadata": {
        "execution": {
          "iopub.status.busy": "2024-10-30T17:34:27.987295Z",
          "iopub.execute_input": "2024-10-30T17:34:27.987769Z",
          "iopub.status.idle": "2024-10-30T17:35:00.429699Z",
          "shell.execute_reply.started": "2024-10-30T17:34:27.987735Z",
          "shell.execute_reply": "2024-10-30T17:35:00.42862Z"
        },
        "collapsed": true,
        "jupyter": {
          "outputs_hidden": true
        },
        "trusted": true,
        "id": "QyPEydCZOUEZ"
      },
      "execution_count": null,
      "outputs": []
    },
    {
      "cell_type": "code",
      "source": [
        "# Import các thư viện\n",
        "import pandas as pd\n",
        "import numpy as np\n",
        "import os\n",
        "from datasets import load_dataset, Audio\n",
        "from transformers import (Wav2Vec2ForCTC, Wav2Vec2Processor,\n",
        "                          Trainer, TrainingArguments, Wav2Vec2CTCTokenizer,\n",
        "                          Wav2Vec2FeatureExtractor)\n",
        "import torch\n",
        "import re\n",
        "import evaluate  # Thay thế load_metric bằng evaluate"
      ],
      "metadata": {
        "execution": {
          "iopub.status.busy": "2024-10-30T17:35:00.431807Z",
          "iopub.execute_input": "2024-10-30T17:35:00.432567Z",
          "iopub.status.idle": "2024-10-30T17:35:30.491872Z",
          "shell.execute_reply.started": "2024-10-30T17:35:00.432518Z",
          "shell.execute_reply": "2024-10-30T17:35:30.491111Z"
        },
        "trusted": true,
        "id": "TceKRVL8OUEZ"
      },
      "execution_count": null,
      "outputs": []
    },
    {
      "cell_type": "code",
      "source": [
        "# Kiểm tra thiết bị\n",
        "device = torch.device(\"cuda\" if torch.cuda.is_available() else \"cpu\")\n",
        "print(f\"Sử dụng thiết bị: {device}\")\n",
        "\n",
        "# Đường dẫn đến dataset VIVOS\n",
        "train_audio_path = '../input/vivos-vietnamese-speech-corpus-for-asr/vivos/train/waves'\n",
        "train_prompts_path = '../input/vivos-vietnamese-speech-corpus-for-asr/vivos/train/prompts.txt'\n",
        "\n",
        "test_audio_path = '../input/vivos-vietnamese-speech-corpus-for-asr/vivos/test/waves'\n",
        "test_prompts_path = '../input/vivos-vietnamese-speech-corpus-for-asr/vivos/test/prompts.txt'"
      ],
      "metadata": {
        "execution": {
          "iopub.status.busy": "2024-10-30T17:35:30.492966Z",
          "iopub.execute_input": "2024-10-30T17:35:30.493578Z",
          "iopub.status.idle": "2024-10-30T17:35:30.56009Z",
          "shell.execute_reply.started": "2024-10-30T17:35:30.493543Z",
          "shell.execute_reply": "2024-10-30T17:35:30.559082Z"
        },
        "trusted": true,
        "id": "1CJZWGMiOUEa"
      },
      "execution_count": null,
      "outputs": []
    },
    {
      "cell_type": "code",
      "source": [
        "# Hàm để đọc file prompts.txt và trả về DataFrame\n",
        "def load_prompts(prompts_path):\n",
        "    transcripts = []\n",
        "    with open(prompts_path, 'r', encoding='utf-8') as f:\n",
        "        for line in f:\n",
        "            id, text = line.strip().split(' ', 1)\n",
        "            transcripts.append({'id': id, 'text': text.lower()})\n",
        "    return pd.DataFrame(transcripts)\n",
        "\n",
        "# Tạo DataFrame cho tập train và test\n",
        "train_transcripts = load_prompts(train_prompts_path)\n",
        "test_transcripts = load_prompts(test_prompts_path)"
      ],
      "metadata": {
        "execution": {
          "iopub.status.busy": "2024-10-30T17:35:30.56271Z",
          "iopub.execute_input": "2024-10-30T17:35:30.563408Z",
          "iopub.status.idle": "2024-10-30T17:35:30.663081Z",
          "shell.execute_reply.started": "2024-10-30T17:35:30.563361Z",
          "shell.execute_reply": "2024-10-30T17:35:30.662092Z"
        },
        "trusted": true,
        "id": "OKGZoNDMOUEb"
      },
      "execution_count": null,
      "outputs": []
    },
    {
      "cell_type": "code",
      "source": [
        "# Thêm đường dẫn âm thanh vào DataFrame\n",
        "def get_audio_path(audio_base_path, audio_id):\n",
        "    speaker = audio_id.split('_')[0]\n",
        "    return os.path.join(audio_base_path, speaker, audio_id + '.wav')\n",
        "\n",
        "train_transcripts['audio'] = train_transcripts['id'].apply(lambda x: get_audio_path(train_audio_path, x))\n",
        "test_transcripts['audio'] = test_transcripts['id'].apply(lambda x: get_audio_path(test_audio_path, x))"
      ],
      "metadata": {
        "execution": {
          "iopub.status.busy": "2024-10-30T17:35:30.664151Z",
          "iopub.execute_input": "2024-10-30T17:35:30.664451Z",
          "iopub.status.idle": "2024-10-30T17:35:30.720454Z",
          "shell.execute_reply.started": "2024-10-30T17:35:30.664418Z",
          "shell.execute_reply": "2024-10-30T17:35:30.719626Z"
        },
        "trusted": true,
        "id": "-qN2YSxROUEc"
      },
      "execution_count": null,
      "outputs": []
    },
    {
      "cell_type": "code",
      "source": [
        "# Loại bỏ các ký tự đặc biệt và chuyển văn bản về chữ thường\n",
        "chars_to_ignore_regex = '[\\,\\?\\.\\!\\-\\;\\:\\\"]'\n",
        "\n",
        "def remove_special_characters(batch):\n",
        "    batch[\"text\"] = re.sub(chars_to_ignore_regex, '', batch[\"text\"]).lower()\n",
        "    return batch\n",
        "\n",
        "train_transcripts = train_transcripts.apply(remove_special_characters, axis=1)\n",
        "test_transcripts = test_transcripts.apply(remove_special_characters, axis=1)"
      ],
      "metadata": {
        "execution": {
          "iopub.status.busy": "2024-10-30T17:35:30.721583Z",
          "iopub.execute_input": "2024-10-30T17:35:30.721877Z",
          "iopub.status.idle": "2024-10-30T17:35:31.909857Z",
          "shell.execute_reply.started": "2024-10-30T17:35:30.721847Z",
          "shell.execute_reply": "2024-10-30T17:35:31.909095Z"
        },
        "trusted": true,
        "id": "vo8_h0rUOUEc"
      },
      "execution_count": null,
      "outputs": []
    },
    {
      "cell_type": "code",
      "source": [
        "vocab_dict = {\"a\": 1, \"b\": 2, \"c\": 3, \"d\": 4, \"e\": 5, \"f\": 6, \"g\": 7, \"h\": 8, \"i\": 9, \"j\": 10, \"k\": 11, \"l\": 12, \"m\": 13, \"n\": 14, \"o\": 15, \"p\": 16, \"q\": 17, \"r\": 18, \"s\": 19, \"t\": 20, \"u\": 21, \"v\": 22, \"w\": 23, \"x\": 24, \"y\": 25, \"z\": 26, \"à\": 27, \"á\": 28, \"â\": 29, \"ã\": 30, \"è\": 31, \"é\": 32, \"ê\": 33, \"ì\": 34, \"í\": 35, \"ò\": 36, \"ó\": 37, \"ô\": 38, \"õ\": 39, \"ù\": 40, \"ú\": 41, \"ý\": 42, \"ă\": 43, \"đ\": 44, \"ĩ\": 45, \"ũ\": 46, \"ơ\": 47, \"ư\": 48, \"ạ\": 49, \"ả\": 50, \"ấ\": 51, \"ầ\": 52, \"ẩ\": 53, \"ẫ\": 54, \"ậ\": 55, \"ắ\": 56, \"ằ\": 57, \"ẳ\": 58, \"ẵ\": 59, \"ặ\": 60, \"ẹ\": 61, \"ẻ\": 62, \"ẽ\": 63, \"ế\": 64, \"ề\": 65, \"ể\": 66, \"ễ\": 67, \"ệ\": 68, \"ỉ\": 69, \"ị\": 70, \"ọ\": 71, \"ỏ\": 72, \"ố\": 73, \"ồ\": 74, \"ổ\": 75, \"ỗ\": 76, \"ộ\": 77, \"ớ\": 78, \"ờ\": 79, \"ở\": 80, \"ỡ\": 81, \"ợ\": 82, \"ụ\": 83, \"ủ\": 84, \"ứ\": 85, \"ừ\": 86, \"ử\": 87, \"ữ\": 88, \"ự\": 89, \"ỳ\": 90, \"ỵ\": 91, \"ỷ\": 92, \"ỹ\": 93, \"|\": 0, \"<bos>\": 94, \"<eos>\": 95, \"<unk>\": 96, \"<pad>\": 97}"
      ],
      "metadata": {
        "execution": {
          "iopub.status.busy": "2024-10-30T17:35:31.911041Z",
          "iopub.execute_input": "2024-10-30T17:35:31.911402Z",
          "iopub.status.idle": "2024-10-30T17:35:31.921912Z",
          "shell.execute_reply.started": "2024-10-30T17:35:31.911367Z",
          "shell.execute_reply": "2024-10-30T17:35:31.921025Z"
        },
        "trusted": true,
        "id": "cg55UnCVOUEd"
      },
      "execution_count": null,
      "outputs": []
    },
    {
      "cell_type": "code",
      "source": [
        "# Lưu vocabulary thành file JSON\n",
        "import json\n",
        "\n",
        "with open('vocab.json', 'w', encoding='utf-8') as vocab_file:\n",
        "    json.dump(vocab_dict, vocab_file, ensure_ascii=False)\n",
        "\n",
        "# Khởi tạo tokenizer\n",
        "tokenizer = Wav2Vec2CTCTokenizer(\"vocab.json\",\n",
        "                                 unk_token=\"<unk>\",\n",
        "                                 pad_token=\"<pad>\",\n",
        "                                 word_delimiter_token=\"|\")"
      ],
      "metadata": {
        "execution": {
          "iopub.status.busy": "2024-10-30T17:35:31.923Z",
          "iopub.execute_input": "2024-10-30T17:35:31.923395Z",
          "iopub.status.idle": "2024-10-30T17:35:31.938292Z",
          "shell.execute_reply.started": "2024-10-30T17:35:31.923344Z",
          "shell.execute_reply": "2024-10-30T17:35:31.937453Z"
        },
        "trusted": true,
        "id": "Bv-WUSu2OUEe"
      },
      "execution_count": null,
      "outputs": []
    },
    {
      "cell_type": "code",
      "source": [
        "# Khởi tạo feature extractor\n",
        "feature_extractor = Wav2Vec2FeatureExtractor(\n",
        "    feature_size=1,\n",
        "    sampling_rate=16000,\n",
        "    padding_value=0.0,\n",
        "    do_normalize=True,\n",
        "    return_attention_mask=False\n",
        ")\n",
        "\n",
        "# Khởi tạo processor\n",
        "processor = Wav2Vec2Processor(\n",
        "    feature_extractor=feature_extractor,\n",
        "    tokenizer=tokenizer\n",
        ")"
      ],
      "metadata": {
        "execution": {
          "iopub.status.busy": "2024-10-30T17:35:31.939602Z",
          "iopub.execute_input": "2024-10-30T17:35:31.939922Z",
          "iopub.status.idle": "2024-10-30T17:35:31.945193Z",
          "shell.execute_reply.started": "2024-10-30T17:35:31.939889Z",
          "shell.execute_reply": "2024-10-30T17:35:31.944203Z"
        },
        "trusted": true,
        "id": "At7OhdqMOUEe"
      },
      "execution_count": null,
      "outputs": []
    },
    {
      "cell_type": "code",
      "source": [
        "# Chuyển đổi DataFrame thành Dataset của Hugging Face\n",
        "from datasets import Dataset\n",
        "\n",
        "train_dataset = Dataset.from_pandas(train_transcripts)\n",
        "test_dataset = Dataset.from_pandas(test_transcripts)\n",
        "\n",
        "# Chuyển cột 'audio' thành kiểu Audio\n",
        "train_dataset = train_dataset.cast_column(\"audio\", Audio(sampling_rate=16000))\n",
        "test_dataset = test_dataset.cast_column(\"audio\", Audio(sampling_rate=16000))"
      ],
      "metadata": {
        "execution": {
          "iopub.status.busy": "2024-10-30T17:35:31.948961Z",
          "iopub.execute_input": "2024-10-30T17:35:31.949296Z",
          "iopub.status.idle": "2024-10-30T17:35:32.03553Z",
          "shell.execute_reply.started": "2024-10-30T17:35:31.949263Z",
          "shell.execute_reply": "2024-10-30T17:35:32.034719Z"
        },
        "trusted": true,
        "id": "dF0nfwvqOUEf"
      },
      "execution_count": null,
      "outputs": []
    },
    {
      "cell_type": "code",
      "source": [
        "# Hàm tiền xử lý dữ liệu\n",
        "def prepare_dataset(batch):\n",
        "    # Xử lý âm thanh\n",
        "    audio = batch[\"audio\"]\n",
        "    batch[\"input_values\"] = processor(audio[\"array\"], sampling_rate=audio[\"sampling_rate\"]).input_values[0]\n",
        "    # Xử lý văn bản\n",
        "    batch[\"labels\"] = processor.tokenizer(batch[\"text\"]).input_ids\n",
        "    return batch\n",
        "\n",
        "# Áp dụng hàm tiền xử lý dữ liệu\n",
        "train_dataset = train_dataset.map(prepare_dataset, remove_columns=train_dataset.column_names)\n",
        "test_dataset = test_dataset.map(prepare_dataset, remove_columns=test_dataset.column_names)"
      ],
      "metadata": {
        "execution": {
          "iopub.status.busy": "2024-10-30T17:35:32.036635Z",
          "iopub.execute_input": "2024-10-30T17:35:32.03699Z",
          "iopub.status.idle": "2024-10-30T17:38:37.971863Z",
          "shell.execute_reply.started": "2024-10-30T17:35:32.036949Z",
          "shell.execute_reply": "2024-10-30T17:38:37.970932Z"
        },
        "trusted": true,
        "id": "hMaozcVaOUEf"
      },
      "execution_count": null,
      "outputs": []
    },
    {
      "cell_type": "code",
      "source": [
        "# Khởi tạo Data Collator\n",
        "from dataclasses import dataclass\n",
        "from typing import Any, Dict, List, Union\n",
        "\n",
        "@dataclass\n",
        "class DataCollatorCTCWithPadding:\n",
        "    processor: Wav2Vec2Processor\n",
        "    padding: Union[bool, str] = True\n",
        "\n",
        "    def __call__(self, features: List[Dict[str, Any]]) -> Dict[str, Any]:\n",
        "        # Tách inputs và labels\n",
        "        input_features = [{\"input_values\": feature[\"input_values\"]} for feature in features]\n",
        "        label_features = [{\"input_ids\": feature[\"labels\"]} for feature in features]\n",
        "\n",
        "        # Padding inputs\n",
        "        batch = self.processor.feature_extractor.pad(\n",
        "            input_features,\n",
        "            padding=self.padding,\n",
        "            return_tensors=\"pt\",\n",
        "        )\n",
        "\n",
        "        # Padding labels\n",
        "        with self.processor.as_target_processor():\n",
        "            labels_batch = self.processor.pad(\n",
        "                label_features,\n",
        "                padding=self.padding,\n",
        "                return_tensors=\"pt\",\n",
        "            )\n",
        "\n",
        "        # Thay thế giá trị padding bằng -100\n",
        "        labels = labels_batch[\"input_ids\"].masked_fill(labels_batch[\"attention_mask\"].ne(1), -100)\n",
        "\n",
        "        batch[\"labels\"] = labels\n",
        "\n",
        "        return batch\n",
        "\n",
        "data_collator = DataCollatorCTCWithPadding(processor=processor, padding=True)"
      ],
      "metadata": {
        "execution": {
          "iopub.status.busy": "2024-10-30T17:38:37.973225Z",
          "iopub.execute_input": "2024-10-30T17:38:37.974124Z",
          "iopub.status.idle": "2024-10-30T17:38:37.984427Z",
          "shell.execute_reply.started": "2024-10-30T17:38:37.974075Z",
          "shell.execute_reply": "2024-10-30T17:38:37.983671Z"
        },
        "trusted": true,
        "id": "QvmJ9WYZOUEf"
      },
      "execution_count": null,
      "outputs": []
    },
    {
      "cell_type": "code",
      "source": [
        "# Định nghĩa hàm tính WER\n",
        "wer_metric = evaluate.load(\"wer\")\n",
        "\n",
        "def compute_metrics(pred):\n",
        "    pred_logits = pred.predictions\n",
        "    pred_ids = np.argmax(pred_logits, axis=-1)\n",
        "\n",
        "    # Giải mã dự đoán\n",
        "    pred_str = processor.batch_decode(pred_ids)\n",
        "\n",
        "    # Giải mã nhãn\n",
        "    label_ids = pred.label_ids\n",
        "    label_ids[label_ids == -100] = processor.tokenizer.pad_token_id\n",
        "    label_str = processor.batch_decode(label_ids, group_tokens=False)\n",
        "\n",
        "    # Tính WER\n",
        "    wer = wer_metric.compute(predictions=pred_str, references=label_str)\n",
        "    return {\"wer\": wer}"
      ],
      "metadata": {
        "execution": {
          "iopub.status.busy": "2024-10-30T17:38:37.985553Z",
          "iopub.execute_input": "2024-10-30T17:38:37.98584Z",
          "iopub.status.idle": "2024-10-30T17:38:38.492192Z",
          "shell.execute_reply.started": "2024-10-30T17:38:37.985809Z",
          "shell.execute_reply": "2024-10-30T17:38:38.491456Z"
        },
        "trusted": true,
        "id": "K0EdN_x8OUEg"
      },
      "execution_count": null,
      "outputs": []
    },
    {
      "cell_type": "code",
      "source": [
        "# Tải mô hình pre-trained mới (facebook/wav2vec2-large-xlsr-53)\n",
        "model = Wav2Vec2ForCTC.from_pretrained(\n",
        "    \"facebook/wav2vec2-large-xlsr-53\",\n",
        "    attention_dropout=0.1,\n",
        "    hidden_dropout=0.1,\n",
        "    activation_dropout=0.1,\n",
        "    ctc_loss_reduction=\"mean\",\n",
        "    pad_token_id=processor.tokenizer.pad_token_id,\n",
        "    vocab_size=len(processor.tokenizer)\n",
        ")\n",
        "\n",
        "# Đóng băng tầng feature extractor\n",
        "model.freeze_feature_encoder()\n",
        "\n",
        "# Thiết lập tham số huấn luyện\n",
        "training_args = TrainingArguments(\n",
        "    output_dir=\"./wav2vec2-vivos\",\n",
        "    group_by_length=True,\n",
        "    per_device_train_batch_size=4,  # Giảm batch size nếu cần\n",
        "    gradient_accumulation_steps=2,\n",
        "    evaluation_strategy=\"steps\",\n",
        "    num_train_epochs=10,\n",
        "    fp16=True,\n",
        "    save_steps=500,\n",
        "    eval_steps=500,\n",
        "    logging_steps=100,\n",
        "    learning_rate=1e-4,\n",
        "    warmup_steps=500,\n",
        "    save_total_limit=2,\n",
        "    push_to_hub=False,\n",
        "    report_to=\"none\",\n",
        ")\n",
        "\n",
        "# Khởi tạo Trainer\n",
        "trainer = Trainer(\n",
        "    model=model,\n",
        "    data_collator=data_collator,\n",
        "    args=training_args,\n",
        "    compute_metrics=compute_metrics,\n",
        "    train_dataset=train_dataset,\n",
        "    eval_dataset=test_dataset,\n",
        "    tokenizer=processor.feature_extractor,\n",
        ")"
      ],
      "metadata": {
        "execution": {
          "iopub.status.busy": "2024-10-30T17:38:38.493164Z",
          "iopub.execute_input": "2024-10-30T17:38:38.4935Z",
          "iopub.status.idle": "2024-10-30T17:38:56.109368Z",
          "shell.execute_reply.started": "2024-10-30T17:38:38.493465Z",
          "shell.execute_reply": "2024-10-30T17:38:56.108426Z"
        },
        "trusted": true,
        "id": "8TY4FhxWOUEg"
      },
      "execution_count": null,
      "outputs": []
    },
    {
      "cell_type": "code",
      "source": [
        "# Bắt đầu huấn luyện\n",
        "trainer.train()\n",
        "\n",
        "# Lưu mô hình cuối cùng\n",
        "trainer.save_model(\"./wav2vec2-vivos\")\n",
        "# Lưu processor\n",
        "processor.save_pretrained(\"./wav2vec2-vivos\")"
      ],
      "metadata": {
        "execution": {
          "iopub.status.busy": "2024-10-30T17:38:56.110522Z",
          "iopub.execute_input": "2024-10-30T17:38:56.110796Z",
          "iopub.status.idle": "2024-10-30T23:20:29.397704Z",
          "shell.execute_reply.started": "2024-10-30T17:38:56.110766Z",
          "shell.execute_reply": "2024-10-30T23:20:29.396766Z"
        },
        "trusted": true,
        "id": "bEpONYIkOUEg"
      },
      "execution_count": null,
      "outputs": []
    },
    {
      "cell_type": "code",
      "source": [
        "import librosa\n",
        "\n",
        "# Tải lại processor và mô hình đã huấn luyện\n",
        "processor = Wav2Vec2Processor.from_pretrained(\"./wav2vec2-vivos\")\n",
        "model = Wav2Vec2ForCTC.from_pretrained(\"./wav2vec2-vivos\")\n",
        "\n",
        "# Chuyển mô hình sang chế độ đánh giá\n",
        "model.eval()\n",
        "\n",
        "# Chọn một file âm thanh từ tập test\n",
        "audio_file = test_transcripts['audio'].iloc[0]\n",
        "print(f\"Đang thử nghiệm với file âm thanh: {audio_file}\")\n",
        "\n",
        "# Đọc file âm thanh\n",
        "audio_input, sampling_rate = librosa.load(audio_file, sr=16000)\n",
        "\n",
        "# Tiền xử lý âm thanh\n",
        "input_values = processor(audio_input, sampling_rate=16000, return_tensors=\"pt\").input_values\n",
        "\n",
        "# Dự đoán\n",
        "with torch.no_grad():\n",
        "    logits = model(input_values).logits\n",
        "\n",
        "predicted_ids = torch.argmax(logits, dim=-1)\n",
        "transcription = processor.decode(predicted_ids[0])\n",
        "\n",
        "print(\"Kết quả nhận dạng giọng nói:\")\n",
        "print(transcription)"
      ],
      "metadata": {
        "execution": {
          "iopub.status.busy": "2024-10-31T01:06:30.642487Z",
          "iopub.execute_input": "2024-10-31T01:06:30.643165Z",
          "iopub.status.idle": "2024-10-31T01:06:30.993264Z",
          "shell.execute_reply.started": "2024-10-31T01:06:30.643124Z",
          "shell.execute_reply": "2024-10-31T01:06:30.992105Z"
        },
        "trusted": true,
        "id": "UK6JhbABOUEg"
      },
      "execution_count": null,
      "outputs": []
    }
  ]
}